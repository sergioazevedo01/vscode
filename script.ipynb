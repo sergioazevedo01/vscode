{
 "cells": [
  {
   "cell_type": "markdown",
   "id": "cf413d0b",
   "metadata": {},
   "source": [
    "Markdown -> Texto explicativo \n",
    "\n",
    "Criar a Tabela"
   ]
  },
  {
   "cell_type": "code",
   "execution_count": null,
   "id": "ebd98f93",
   "metadata": {},
   "outputs": [],
   "source": [
    "import sqlite3\n",
    "\n",
    "# Criar conexao \n",
    "conn = sqlite3.connect('alunos.db')\n",
    "cursor = conn.cursor()\n",
    "\n",
    "# criar a tabela \n",
    "cursor.execute('''\n",
    "CREATE TABLE IF NOT EXISTS alunos (\n",
    "id INTEGER PRIMARY KEY AUTOINCREMENT, nome TEXT, nota REAL\n",
    ")\n",
    "''')\n",
    "conn.commit()\n",
    "conn.close()\n"
   ]
  },
  {
   "cell_type": "markdown",
   "id": "daf23675",
   "metadata": {},
   "source": [
    "Inserindo Registros "
   ]
  },
  {
   "cell_type": "code",
   "execution_count": null,
   "id": "71b13e73",
   "metadata": {},
   "outputs": [],
   "source": [
    "import sqlite3\n",
    "\n",
    "conn = sqlite3.connect('alunos.db')\n",
    "cursor = conn.cursor()\n",
    "\n",
    "# dados\n",
    "dados = [ \n",
    "    ('Arthur', 4.3),\n",
    "    ('Andre', 9.0),\n",
    "    ('Elton', 5.0),\n",
    "    ('Larissa', 7.6)\n",
    "]\n",
    "\n",
    "# inseririndo dados\n",
    "cursor.executemany('INSERT INTO alunos (nome, nota) VALUES (?, ?)', dados)\n",
    "\n",
    "conn.commit()\n",
    "conn.close()\n"
   ]
  },
  {
   "cell_type": "markdown",
   "id": "3d3801c6",
   "metadata": {},
   "source": [
    "DELETANDO UM USUARIO"
   ]
  },
  {
   "cell_type": "code",
   "execution_count": null,
   "id": "c4cb0f17",
   "metadata": {},
   "outputs": [],
   "source": [
    "import sqlite3\n",
    "conn = sqlite3.connect('alunos.db')\n",
    "cursor = conn.cursor()\n",
    "\n",
    "# deletando aluno que ja tem id \n",
    "cursor.execute('DELETE FROM alunos WHERE id = ?', (1, ))\n",
    "conn.commit()\n",
    "conn.close()\n"
   ]
  },
  {
   "cell_type": "markdown",
   "id": "002f98e4",
   "metadata": {},
   "source": [
    "SELECIONANDO ALUNOS "
   ]
  },
  {
   "cell_type": "code",
   "execution_count": null,
   "id": "cf67d4b3",
   "metadata": {},
   "outputs": [],
   "source": [
    "import sqlite3\n",
    "\n",
    "conn = sqlite3.connect('alunos.db')\n",
    "cursor = conn.cursor()\n",
    "\n",
    "cursor.execute('SELECT * FROM alunos')\n",
    "dados = cursor.fetchall() # executar consulta \n",
    "\n",
    "for linha in dados:\n",
    "    print(linha)\n",
    "    "
   ]
  }
 ],
 "metadata": {
  "language_info": {
   "name": "python"
  }
 },
 "nbformat": 4,
 "nbformat_minor": 5
}
